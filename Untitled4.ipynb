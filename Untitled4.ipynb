{
  "cells": [
    {
      "cell_type": "code",
      "execution_count": null,
      "metadata": {
        "id": "6kLgRqCDJqGD"
      },
      "outputs": [],
      "source": [
        "import numpy as np\n",
        "from math import sqrt, pow"
      ]
    },
    {
      "cell_type": "markdown",
      "metadata": {
        "id": "z7YPCwrUgMb7"
      },
      "source": [
        "**Задача 1.**\n",
        "\n",
        "Даны четыре действительных числа: x1, y1, x2, y2. Напишите функцию distance(x1, y1, x2, y2), вычисляющая евклидово расстояние ( https://ru.wikipedia.org/wiki/%D0%95%D0%B2%D0%BA%D0%BB%D0%B8%D0%B4%D0%BE%D0%B2%D0%B0_%D0%BC%D0%B5%D1%82%D1%80%D0%B8%D0%BA%D0%B0 ) между точкой (x1,y1) и (x2,y2)."
      ]
    },
    {
      "cell_type": "code",
      "execution_count": null,
      "metadata": {
        "colab": {
          "base_uri": "https://localhost:8080/"
        },
        "id": "AAb9YXBmKIPn",
        "outputId": "566a8d0d-46d6-4c19-8be6-26e7e4c929a9"
      },
      "outputs": [
        {
          "name": "stdout",
          "output_type": "stream",
          "text": [
            "3.1622776601683795\n"
          ]
        }
      ],
      "source": [
        "def distance(x1, y1, x2, y2):\n",
        "  return sqrt(pow(x1 - y1, 2) + pow(x2 - y2, 2))\n",
        "\n",
        "print(distance(3, 4, 5, 8))"
      ]
    },
    {
      "cell_type": "markdown",
      "metadata": {
        "id": "_djkVigigbFJ"
      },
      "source": [
        "**Задача 2.**\n",
        "\n",
        "Написать функцию season(month), принимающую 1 аргумент — номер месяца (от 1 до 12), которая присваивает глобальной переменной s время года, которому этот месяц принадлежит (зима, весна, лето или осень)."
      ]
    },
    {
      "cell_type": "code",
      "execution_count": null,
      "metadata": {
        "colab": {
          "base_uri": "https://localhost:8080/"
        },
        "id": "Y4l4VBhXQw3C",
        "outputId": "d8dc6205-9628-4bb8-f42a-f3b1c593b7d9"
      },
      "outputs": [
        {
          "name": "stdout",
          "output_type": "stream",
          "text": [
            "spring\n",
            "fall\n"
          ]
        }
      ],
      "source": [
        "s = None\n",
        "def  season(month):\n",
        "  global s\n",
        "  if 3 <= month <= 5:\n",
        "    s = 'spring'\n",
        "    return s\n",
        "  elif 6 <= month <= 8:\n",
        "    s = 'summer'\n",
        "    return s\n",
        "  elif 9 <= month <= 11:\n",
        "    s = 'fall' \n",
        "    return s\n",
        "  else: \n",
        "    s = 'winter'\n",
        "    return s\n",
        "\n",
        "season(4)\n",
        "print(s)\n",
        "\n",
        "season(10)\n",
        "print(s)"
      ]
    },
    {
      "cell_type": "markdown",
      "metadata": {
        "id": "PV3xvGuPiYlJ"
      },
      "source": [
        "**Задача 3.**\n",
        "\n",
        "Написать функцию is_prime, принимающую 1 аргумент — число от 0 до 1000, и возвращающую True, если оно простое, и False - иначе."
      ]
    },
    {
      "cell_type": "code",
      "execution_count": null,
      "metadata": {
        "colab": {
          "base_uri": "https://localhost:8080/"
        },
        "id": "D_jOM19Hxht7",
        "outputId": "40cfa134-265d-40cb-c3a8-d0054a888c7a"
      },
      "outputs": [
        {
          "name": "stdout",
          "output_type": "stream",
          "text": [
            "True\n",
            "False\n"
          ]
        }
      ],
      "source": [
        "def is_prime(number):\n",
        "  if number == 1:\n",
        "    return False\n",
        "  for devidener in range(2, number - 1):\n",
        "    if number % devidener == 0:\n",
        "      return False\n",
        "  return True\n",
        "  \n",
        "print(is_prime(97))\n",
        "print(is_prime(534))"
      ]
    },
    {
      "cell_type": "markdown",
      "metadata": {
        "id": "hh8ieMv5kdfo"
      },
      "source": [
        "**Задача 4.**\n",
        "\n",
        "Написать функцию reverse_list(lst), которая принимает в качестве аргумента список и возвращаем его в перевернутом виде.\n",
        "\n",
        "Например,\n",
        "- исходный список:  8, 1, 0, 4\n",
        "- полученный список: 4, 0, 1, 8\n",
        "\n",
        "Использовать встроенные функции Python нельзя. "
      ]
    },
    {
      "cell_type": "code",
      "execution_count": null,
      "metadata": {
        "colab": {
          "base_uri": "https://localhost:8080/"
        },
        "id": "nvI5LujckmmQ",
        "outputId": "0b572aa9-edf8-4002-f47c-3d26cc65c2ca"
      },
      "outputs": [
        {
          "name": "stdout",
          "output_type": "stream",
          "text": [
            "[4, 0, 1, 8]\n"
          ]
        }
      ],
      "source": [
        "def reverse_list(lst):\n",
        "  return lst[::-1]\n",
        "\n",
        "print(reverse_list([8, 1, 0, 4]))"
      ]
    },
    {
      "cell_type": "markdown",
      "metadata": {
        "id": "F9qnl0NTsCmA"
      },
      "source": [
        "**Задача 5.**\n",
        "\n",
        "Распечатайте с 4 по 8 символ фразы \"Привет мир!\" приведенные к верхнему регистру."
      ]
    },
    {
      "cell_type": "code",
      "execution_count": null,
      "metadata": {
        "colab": {
          "base_uri": "https://localhost:8080/"
        },
        "id": "aA_8xRzZsHHZ",
        "outputId": "e18847a8-8c47-4e1d-e3c4-a0dd9be2ce71"
      },
      "outputs": [
        {
          "name": "stdout",
          "output_type": "stream",
          "text": [
            "ИВЕТ МИ\n"
          ]
        }
      ],
      "source": [
        "print('Привет мир!'[2:9].upper())"
      ]
    },
    {
      "cell_type": "markdown",
      "metadata": {
        "id": "sypO_T9itacK"
      },
      "source": [
        "Задача 6.\n",
        "\n",
        "Напишите код, который все элементы массива x с нечетными индексами переставит в обратном порядке.\n",
        "\n",
        "Т.е. если x = [0, 1, 2, 3, 4, 5, 6, 7, 8, 9], то код должен получать [0, 9, 2, 7, 4, 5, 6, 3, 8, 1]"
      ]
    },
    {
      "cell_type": "code",
      "execution_count": null,
      "metadata": {
        "colab": {
          "base_uri": "https://localhost:8080/"
        },
        "id": "YiagLNYBtfxD",
        "outputId": "59005b50-9d34-4254-f114-7b2f1d9a9d92"
      },
      "outputs": [
        {
          "name": "stdout",
          "output_type": "stream",
          "text": [
            "[0, 9, 2, 7, 4, 5, 6, 3, 8, 1, 10]\n",
            "[0, 9, 2, 7, 4, 5, 6, 3, 8, 1]\n"
          ]
        }
      ],
      "source": [
        "def reverse_odd(array):\n",
        "  for i in range(1, int(len(array) // 2 + 1), 2):\n",
        "    temp = array[i]\n",
        "    array[i] = array[len(array) - i - len(array) % 2]\n",
        "    array[len(array) - i - len(array) % 2] = temp\n",
        "  return array\n",
        "\n",
        "print(reverse_odd([0, 1, 2, 3, 4, 5, 6, 7, 8, 9, 10]))\n",
        "print(reverse_odd([0, 1, 2, 3, 4, 5, 6, 7, 8, 9]))"
      ]
    },
    {
      "cell_type": "markdown",
      "metadata": {
        "id": "AJ4EM7kXxsMe"
      },
      "source": [
        "**Задача 7.**\n",
        "\n",
        "Напишите цикл, который выводит все числа от 0 до 500, делящиеся на 7, если в них есть цифра 8."
      ]
    },
    {
      "cell_type": "code",
      "execution_count": null,
      "metadata": {
        "colab": {
          "base_uri": "https://localhost:8080/"
        },
        "id": "f2bzDWt-x1BT",
        "outputId": "a7da278c-2ef7-467c-f733-4833dcfdbe79"
      },
      "outputs": [
        {
          "name": "stdout",
          "output_type": "stream",
          "text": [
            "28\n",
            "84\n",
            "98\n",
            "168\n",
            "182\n",
            "189\n",
            "238\n",
            "280\n",
            "287\n",
            "308\n",
            "378\n",
            "385\n",
            "448\n",
            "483\n"
          ]
        }
      ],
      "source": [
        "for i in range(0, 501):\n",
        "  if i % 7 == 0:\n",
        "    i_str = (str(i))\n",
        "    for j in range(0, len(i_str)):\n",
        "      if int(i_str[j]) == 8:\n",
        "        print(i)\n",
        "        break"
      ]
    },
    {
      "cell_type": "markdown",
      "metadata": {
        "id": "uMFzEuRB58Oz"
      },
      "source": [
        "**Задача 8.**\n",
        "\n",
        "На вход функция more_than_five(lst) получает список из целых чисел. Результатом работы функции должен стать новый список, в котором содержатся только те числа, которые больше 10 по модулю."
      ]
    },
    {
      "cell_type": "code",
      "execution_count": null,
      "metadata": {
        "colab": {
          "base_uri": "https://localhost:8080/"
        },
        "id": "uGSiF30Y6K4b",
        "outputId": "a488304f-fe2c-426b-c777-dc00343f5264"
      },
      "outputs": [
        {
          "name": "stdout",
          "output_type": "stream",
          "text": [
            "[-100, 78, 34, 12, -45, 56, -15, -34, -23, -12, 83]\n"
          ]
        }
      ],
      "source": [
        "def more_than_five(lst: list):\n",
        "  return list(filter(lambda number : abs(number) > 10, lst))\n",
        "\n",
        "print(more_than_five([5, 7, -100, -4, 78, 34, 12, -45, 56, -15, 10, -10, -34, -23, -12, 83]))"
      ]
    },
    {
      "cell_type": "markdown",
      "metadata": {
        "id": "oGL9n37UCcRB"
      },
      "source": [
        "# Задания"
      ]
    },
    {
      "cell_type": "markdown",
      "metadata": {
        "id": "ly4ScX5fCmW3"
      },
      "source": [
        "**Задача 1.**\n",
        "\n",
        "Создать матрицу размером `10х10` с 0 внутри, и 1 на границах. Например для `3х3`.\n",
        "\n",
        "```\n",
        "1 1 1\n",
        "1 0 1\n",
        "1 1 1\n",
        "```"
      ]
    },
    {
      "cell_type": "code",
      "execution_count": null,
      "metadata": {
        "colab": {
          "background_save": true,
          "base_uri": "https://localhost:8080/"
        },
        "id": "sM5S7rdZCs0w",
        "outputId": "ef341b54-157e-4632-b7a4-f6415bb85c77"
      },
      "outputs": [
        {
          "data": {
            "text/plain": [
              "array([[1, 1, 1, 1, 1, 1, 1, 1, 1, 1],\n",
              "       [1, 0, 0, 0, 0, 0, 0, 0, 0, 1],\n",
              "       [1, 0, 0, 0, 0, 0, 0, 0, 0, 1],\n",
              "       [1, 0, 0, 0, 0, 0, 0, 0, 0, 1],\n",
              "       [1, 0, 0, 0, 0, 0, 0, 0, 0, 1],\n",
              "       [1, 0, 0, 0, 0, 0, 0, 0, 0, 1],\n",
              "       [1, 0, 0, 0, 0, 0, 0, 0, 0, 1],\n",
              "       [1, 0, 0, 0, 0, 0, 0, 0, 0, 1],\n",
              "       [1, 0, 0, 0, 0, 0, 0, 0, 0, 1],\n",
              "       [1, 1, 1, 1, 1, 1, 1, 1, 1, 1]])"
            ]
          },
          "execution_count": 79,
          "metadata": {},
          "output_type": "execute_result"
        }
      ],
      "source": [
        "matrix = np.ones((10, 10), 'int')\n",
        "matrix[1:]\n",
        "for i in range(0, 10):\n",
        "  matrix[0, i] = matrix[9, i] = 1\n",
        "for i in range(1, 9):\n",
        "  matrix[i, 0] = matrix[i, 9] = 1\n",
        "matrix"
      ]
    },
    {
      "cell_type": "markdown",
      "metadata": {
        "id": "mFbv89BgLTaf"
      },
      "source": [
        "**Задача 2.**\n",
        "\n",
        "Создать 5x5 матрицу с 1,2,3,4 над диагональю. Все остальные элементы - 0."
      ]
    },
    {
      "cell_type": "code",
      "execution_count": null,
      "metadata": {
        "id": "JK92LIGmLX3n",
        "colab": {
          "base_uri": "https://localhost:8080/"
        },
        "outputId": "77aa5344-7ebc-46b7-d326-01d0332ec78a"
      },
      "outputs": [
        {
          "output_type": "stream",
          "name": "stdout",
          "text": [
            "[[0 1 0 0 0]\n",
            " [0 0 2 0 0]\n",
            " [0 0 0 3 0]\n",
            " [0 0 0 0 4]\n",
            " [0 0 0 0 0]]\n"
          ]
        }
      ],
      "source": [
        "matrix = np.diag(np.arange(1, 5), k = 1)\n",
        "print(matrix)"
      ]
    },
    {
      "cell_type": "markdown",
      "source": [
        "**Задача 3.**\n",
        "\n",
        "Создайте случайную матрицу и вычтите из каждой строки среднее."
      ],
      "metadata": {
        "id": "4Hro2Zwlbn3v"
      }
    },
    {
      "cell_type": "code",
      "source": [
        "matrix = 10 * np.random.randn(4, 5)\n",
        "print(matrix, end = '\\n\\n')\n",
        "for row in matrix:\n",
        "  print('\\t\\tmean = ', np.mean(row))\n",
        "  row -= np.mean(row)\n",
        "print('\\n', matrix)"
      ],
      "metadata": {
        "colab": {
          "base_uri": "https://localhost:8080/"
        },
        "id": "vZYfFP5FbnnZ",
        "outputId": "7bb8aad7-e7a6-429c-c446-5d40dd33cc23"
      },
      "execution_count": null,
      "outputs": [
        {
          "output_type": "stream",
          "name": "stdout",
          "text": [
            "[[  0.65676631   4.86053572  24.79871947 -18.87123304   0.3966254 ]\n",
            " [ 13.42023303  -1.44608002  -0.51861599  10.70691686  -2.81805755]\n",
            " [  3.32300354   3.17023557   5.24644862 -15.59247906 -27.76024437]\n",
            " [  1.3228959   10.02959184 -12.8910912   23.11691101   4.41608271]]\n",
            "\n",
            "\t\tmean =  2.368282773880494\n",
            "\t\tmean =  3.8688792655432365\n",
            "\t\tmean =  -6.3226071412895\n",
            "\t\tmean =  5.198878050640799\n",
            "\n",
            " [[ -1.71151646   2.49225295  22.4304367  -21.23951582  -1.97165737]\n",
            " [  9.55135376  -5.31495928  -4.38749525   6.83803759  -6.68693681]\n",
            " [  9.64561068   9.49284271  11.56905576  -9.26987192 -21.43763723]\n",
            " [ -3.87598216   4.83071379 -18.08996925  17.91803296  -0.78279534]]\n"
          ]
        }
      ]
    },
    {
      "cell_type": "markdown",
      "source": [
        "**Задача 4.**\n",
        "\n",
        "Написать функцию, принимающую на вход массив и меняющую знак у элементов, значения которых между 3 и 8. Протестировать на нескольких заданных вами массивах."
      ],
      "metadata": {
        "id": "9SkelUzLeexQ"
      }
    },
    {
      "cell_type": "code",
      "source": [
        "def sign_exchenge(array):\n",
        "  array[(array > 3) & (array < 8)] *= -1\n",
        "  return array\n",
        "\n",
        "array = np.array([1, 5, 7, 8, 3, 9, 23, 98, 5, 3, 6, 3, -3, -5, -87,-4, 3, 5])\n",
        "print(sign_exchenge(array))"
      ],
      "metadata": {
        "colab": {
          "base_uri": "https://localhost:8080/"
        },
        "id": "xg0WDn4Nedj3",
        "outputId": "c4fde892-697d-4391-9a24-387215846fd2"
      },
      "execution_count": null,
      "outputs": [
        {
          "output_type": "stream",
          "name": "stdout",
          "text": [
            "[  1  -5  -7   8   3   9  23  98  -5   3  -6   3  -3  -5 -87  -4   3  -5]\n"
          ]
        }
      ]
    },
    {
      "cell_type": "markdown",
      "source": [
        "**Задача 4.**\n",
        "\n",
        "Написать функцию, принимающую на вход массив и вычитающую среднее из каждой строки в матрице. Протестировать на нескольких заданных вами примерах."
      ],
      "metadata": {
        "id": "dTMRY4NledVn"
      }
    },
    {
      "cell_type": "code",
      "source": [
        "def minus_mean(matrix):\n",
        "  for row in matrix:\n",
        "    row -= np.mean(row)\n",
        "  return matrix\n",
        "\n",
        "matrix = 20 * np.random.randn(5, 3)\n",
        "print(matrix, end = '\\n\\n')\n",
        "print(minus_mean(matrix))"
      ],
      "metadata": {
        "colab": {
          "base_uri": "https://localhost:8080/"
        },
        "id": "tI_rNl7yhq7g",
        "outputId": "26c5e44e-8ad7-4cec-aba7-ad6c20ad55bd"
      },
      "execution_count": null,
      "outputs": [
        {
          "output_type": "stream",
          "name": "stdout",
          "text": [
            "[[ 14.78738109 -26.46045881 -14.72232094]\n",
            " [-47.70939292  29.16667769  10.37146459]\n",
            " [ -8.92726099 -35.19342525   0.44981987]\n",
            " [ 40.89905127  20.58133145  14.88494232]\n",
            " [ -9.95130114  23.02407445 -21.69432572]]\n",
            "\n",
            "[[ 23.58584731 -17.66199259  -5.92385472]\n",
            " [-44.9856427   31.8904279   13.0952148 ]\n",
            " [  5.62969447 -20.63646979  15.00677532]\n",
            " [ 15.44394292  -4.8737769  -10.57016603]\n",
            " [ -7.07745034  25.89792525 -18.82047491]]\n"
          ]
        }
      ]
    },
    {
      "cell_type": "markdown",
      "source": [
        "**Задача 5.**\n",
        "\n",
        "Дан вектор [1, 2, 3, 4, 5], построить новый вектор с тремя нулями между каждым значением."
      ],
      "metadata": {
        "id": "eZXDo08vjN7l"
      }
    },
    {
      "cell_type": "code",
      "source": [
        "vector = np.arange(1, 6)\n",
        "new_vector = np.zeros(len(vector) + (len(vector) - 1) * 3, int)\n",
        "new_vector[::4] = vector\n",
        "print(new_vector)"
      ],
      "metadata": {
        "colab": {
          "base_uri": "https://localhost:8080/"
        },
        "id": "np-Micc1jOdI",
        "outputId": "79bfabd0-e6c7-452c-bb30-76e2a7b6a292"
      },
      "execution_count": null,
      "outputs": [
        {
          "output_type": "stream",
          "name": "stdout",
          "text": [
            "[1 0 0 0 2 0 0 0 3 0 0 0 4 0 0 0 5]\n"
          ]
        }
      ]
    },
    {
      "cell_type": "markdown",
      "source": [
        "**Задача 6.**\n",
        "\n",
        "\n",
        "Написать функцию, принимающую на вход матрицу MxN и меняющую 2 любые строки в матрице. Протестировать на нескольких заданных вами примерах."
      ],
      "metadata": {
        "id": "EOnjTWRmkyCu"
      }
    },
    {
      "cell_type": "code",
      "source": [
        "def exchenge_rows(matrix):\n",
        "  row1 = np.random.randint(len(matrix))\n",
        "  row2 = np.random.randint(len(matrix))\n",
        "  while row1 == row2:\n",
        "    row2 = np.random.randint(len(matrix))\n",
        "  print(f'Switching rows {row1} and {row2}\\n')\n",
        "  matrix[[row1, row2]] = matrix[[row2, row1]] \n",
        "  return matrix\n",
        "\n",
        "matrix = np.random.randint(100, size = (7, 4))\n",
        "print(matrix, '\\n')\n",
        "print(exchenge_rows(matrix))"
      ],
      "metadata": {
        "colab": {
          "base_uri": "https://localhost:8080/"
        },
        "id": "xWuVqWHEkw_T",
        "outputId": "6203f16d-34fe-4ef6-cf22-7d4ee820f1a8"
      },
      "execution_count": null,
      "outputs": [
        {
          "output_type": "stream",
          "name": "stdout",
          "text": [
            "[[33 97 17 84]\n",
            " [ 3 42  6 35]\n",
            " [21 96 72 17]\n",
            " [82 65  7 11]\n",
            " [82 66 17 83]\n",
            " [78 79 90 13]\n",
            " [84 60 26 62]] \n",
            "\n",
            "Switching rows 0 and 4\n",
            "\n",
            "[[82 66 17 83]\n",
            " [ 3 42  6 35]\n",
            " [21 96 72 17]\n",
            " [82 65  7 11]\n",
            " [33 97 17 84]\n",
            " [78 79 90 13]\n",
            " [84 60 26 62]]\n"
          ]
        }
      ]
    },
    {
      "cell_type": "markdown",
      "source": [
        "**Задача 7.**\n",
        "\n",
        "Написать функцию, принимающую на вход одномерный массив и возвращающую наиболее частое значение в массиве и частоту его встречи. Протестировать на нескольких заданных вами примерах."
      ],
      "metadata": {
        "id": "lhHc8xFD3JfO"
      }
    },
    {
      "cell_type": "code",
      "source": [
        "def number_freq(array):\n",
        "  values, counts = np.unique(array, return_counts=True)\n",
        "  i_max = np.argmax(counts)\n",
        "  return values[i_max], counts[i_max]\n",
        "\n",
        "array = np.random.randint(10, size = 20)\n",
        "print(array)\n",
        "print(number_freq(array))"
      ],
      "metadata": {
        "colab": {
          "base_uri": "https://localhost:8080/"
        },
        "id": "hOAst0jI3LMm",
        "outputId": "b73ef469-e387-4c59-c8bb-d4a4d7da1369"
      },
      "execution_count": null,
      "outputs": [
        {
          "output_type": "stream",
          "name": "stdout",
          "text": [
            "[7 1 1 6 4 0 3 7 0 5 6 0 2 7 1 0 0 3 1 8]\n",
            "[0, 5]\n"
          ]
        }
      ]
    },
    {
      "cell_type": "markdown",
      "source": [
        "**Задача 8.** \n",
        "\n",
        "Написать функцию, принимающую на вход  массив 16x16 и считающую сумму по блокам 4x4. Протестировать на нескольких заданных вами примерах."
      ],
      "metadata": {
        "id": "We3mlMBKkwsA"
      }
    },
    {
      "cell_type": "code",
      "source": [
        "def sum_of_fours(matrix):\n",
        "  for i in range(2):\n",
        "    for j in range(2):\n",
        "      temp = matrix[i*4:(i+1)*4, j*4:(j+1)*4]\n",
        "      print(temp, '\\n', np.sum(temp),'\\n')\n",
        "\n",
        "matrix = np.random.randint(100, size=(16, 16))\n",
        "print(matrix, end='\\n\\n')\n",
        "sum_of_fours(matrix)\n"
      ],
      "metadata": {
        "colab": {
          "base_uri": "https://localhost:8080/"
        },
        "id": "R-mIGT9_2r-z",
        "outputId": "af7158a2-1458-4b8a-d997-1919ac089b2f"
      },
      "execution_count": null,
      "outputs": [
        {
          "output_type": "stream",
          "name": "stdout",
          "text": [
            "[[68 28 16 69 14 55 53 66 31 18 13 93 13 91 20 39]\n",
            " [45 24 72 53 42  3 64 28 89 64 97 57 45 66 20 23]\n",
            " [49 25 86 72 41 37 31 47  0 35 31 63  1 70 60 88]\n",
            " [ 0 24 61 50 39 35 88 73 84 28  2 21 69 34 88 39]\n",
            " [64 20 71 12 32  8  8 58  7  4 46 18  4 55 43  6]\n",
            " [63  4 33 85 39 14 25 52 67 13 87 50 72  3 95 46]\n",
            " [59 48 58 76 63 55 37 85 93 18 75 26 36 74 63 71]\n",
            " [30 56 98  3 90 68  3 39 37 98 53 16 90 18 51 74]\n",
            " [82 73 10 23 13 91  6 14 17 65 16 81 16 31 49 19]\n",
            " [34 81 74 59 22 30 32 82 98 15 92 54 30 35  0 50]\n",
            " [70 71 32 45 51 85  4 32 88 48 10 14 27 76 26 27]\n",
            " [50 32  7 45 55 71 49 75 90 63 74 62 13  8 36  6]\n",
            " [76 66 82 48 74  9  9  9 39 71  5 58 75 86 82 68]\n",
            " [98 83 66 42 54 68 53 73 71 32  4 92 63 24 76  0]\n",
            " [15 27 73  7 55 65 76 83 21 23  5  1 86  2 90 78]\n",
            " [18 61 15 90 26 37 29 89 16 98 71 54 28 44 63 95]]\n",
            "\n",
            "[[68 28 16 69]\n",
            " [45 24 72 53]\n",
            " [49 25 86 72]\n",
            " [ 0 24 61 50]] \n",
            " 742 \n",
            "\n",
            "[[14 55 53 66]\n",
            " [42  3 64 28]\n",
            " [41 37 31 47]\n",
            " [39 35 88 73]] \n",
            " 716 \n",
            "\n",
            "[[64 20 71 12]\n",
            " [63  4 33 85]\n",
            " [59 48 58 76]\n",
            " [30 56 98  3]] \n",
            " 780 \n",
            "\n",
            "[[32  8  8 58]\n",
            " [39 14 25 52]\n",
            " [63 55 37 85]\n",
            " [90 68  3 39]] \n",
            " 676 \n",
            "\n"
          ]
        }
      ]
    },
    {
      "cell_type": "markdown",
      "source": [
        "**Задача 9.**\n",
        "\n",
        "Написать функцию, принимающую на вход матрицу и возвращающую n наибольших значений в массиве. n вводится с клавиатуры. Протестировать на нескольких заданных вами примерах."
      ],
      "metadata": {
        "id": "b-XJ5-IB_W1r"
      }
    },
    {
      "cell_type": "code",
      "source": [
        "def max_values(matrix, n):\n",
        "  return np.partition(a, n)[n:]\n",
        "\n",
        "n = int(input('Enter amount of big values you want to find: '))\n",
        "a = np.random.randint(100, size = n * 2)\n",
        "print(a)\n",
        "print(max_values(a, n))"
      ],
      "metadata": {
        "colab": {
          "base_uri": "https://localhost:8080/"
        },
        "id": "BcpGxzCx_jSw",
        "outputId": "839a111e-145e-4fc9-f978-22fb37a5554b"
      },
      "execution_count": null,
      "outputs": [
        {
          "output_type": "stream",
          "name": "stdout",
          "text": [
            "Enter amount of big values you want to find: 9\n",
            "[ 6 47 39 65 14 44 10 15 56 74 98 77 19 77 25 91 27 36]\n",
            "[44 47 77 74 77 65 91 98 56]\n"
          ]
        }
      ]
    },
    {
      "cell_type": "markdown",
      "source": [
        " **Задача 10.**\n",
        "\n",
        "Написать функцию, принимающую на вход 10x3 матрица и находящую строки из неравных значений (например [2,2,3]). Протестировать на нескольких заданных вами примерах."
      ],
      "metadata": {
        "id": "cOHf_xu5AjcX"
      }
    },
    {
      "cell_type": "code",
      "source": [
        "def find_unequal(matrix):\n",
        "  is_equal = np.logical_and.reduce(matrix[:,1:] == matrix[:,:-1], axis=1)\n",
        "  return matrix[~is_equal]\n",
        "\n",
        "matrix = np.random.randint(2, size=(10, 3))\n",
        "print(matrix, '\\n')\n",
        "print(find_unequal(matrix))"
      ],
      "metadata": {
        "colab": {
          "base_uri": "https://localhost:8080/"
        },
        "id": "edOqMQaWAzMd",
        "outputId": "aafdccb8-09c1-4d10-f5b1-3d84d6db19ee"
      },
      "execution_count": null,
      "outputs": [
        {
          "output_type": "stream",
          "name": "stdout",
          "text": [
            "[[0 0 1]\n",
            " [1 0 0]\n",
            " [1 1 0]\n",
            " [1 0 0]\n",
            " [1 1 1]\n",
            " [0 0 0]\n",
            " [1 0 0]\n",
            " [1 1 0]\n",
            " [0 1 1]\n",
            " [0 0 0]] \n",
            "\n",
            "[[0 0 1]\n",
            " [1 0 0]\n",
            " [1 1 0]\n",
            " [1 0 0]\n",
            " [1 0 0]\n",
            " [1 1 0]\n",
            " [0 1 1]]\n"
          ]
        }
      ]
    },
    {
      "cell_type": "markdown",
      "source": [
        "Задача 11.\n",
        "\n",
        "Написать функцию, принимающую на вход двумерный массив и находящую все различные строки. Протестировать на нескольких заданных вами примерах."
      ],
      "metadata": {
        "id": "rWZUYFXCCaC6"
      }
    },
    {
      "cell_type": "code",
      "source": [
        "def find_unique(matrix):\n",
        "  return np.unique(matrix, axis=0)\n",
        "\n",
        "matrix = np.random.randint(2, size=(10, 5))\n",
        "print(matrix, '\\n')\n",
        "print(find_unique(matrix))"
      ],
      "metadata": {
        "colab": {
          "base_uri": "https://localhost:8080/"
        },
        "id": "o2-AM-g6Cmul",
        "outputId": "0af1e484-1edb-4cd3-ba37-b2c0ab93580f"
      },
      "execution_count": null,
      "outputs": [
        {
          "output_type": "stream",
          "name": "stdout",
          "text": [
            "[[1 1 0 0 0]\n",
            " [1 0 1 1 1]\n",
            " [1 0 1 1 0]\n",
            " [1 0 1 0 0]\n",
            " [1 0 0 0 1]\n",
            " [1 1 1 1 1]\n",
            " [1 1 1 0 1]\n",
            " [0 1 0 1 0]\n",
            " [0 1 1 0 1]\n",
            " [1 0 1 0 0]] \n",
            "\n",
            "[[0 1 0 1 0]\n",
            " [0 1 1 0 1]\n",
            " [1 0 0 0 1]\n",
            " [1 0 1 0 0]\n",
            " [1 0 1 1 0]\n",
            " [1 0 1 1 1]\n",
            " [1 1 0 0 0]\n",
            " [1 1 1 0 1]\n",
            " [1 1 1 1 1]]\n"
          ]
        }
      ]
    },
    {
      "cell_type": "markdown",
      "source": [
        "**Задача 12.**\n",
        "\n",
        "Написать функцию, принимающую на вход два вектора одинакого размера и считающую расстояние между векторами. Протестировать на нескольких заданных вами примерах."
      ],
      "metadata": {
        "id": "ihbE5q5bDaKS"
      }
    },
    {
      "cell_type": "code",
      "source": [
        "def distance(vec1, vec2):\n",
        "  return np.linalg.norm(vec1 - vec2)\n",
        "\n",
        "vec1 = np.random.randint(10, size=5)\n",
        "vec2 = np.random.randint(10, size=5)\n",
        "print(f'{vec1}\\n{vec2}\\n{distance(vec1, vec2)}')"
      ],
      "metadata": {
        "colab": {
          "base_uri": "https://localhost:8080/"
        },
        "id": "jt90BAhGDazv",
        "outputId": "f3492d72-2144-4c0d-c4b1-12b32b0fea20"
      },
      "execution_count": null,
      "outputs": [
        {
          "output_type": "stream",
          "name": "stdout",
          "text": [
            "[4 8 5 4 5]\n",
            "[2 8 8 4 6]\n",
            "3.7416573867739413\n"
          ]
        }
      ]
    },
    {
      "cell_type": "markdown",
      "source": [
        " **Задача 13.**\n",
        "\n",
        "Написать функцию, принимающую на вход два вектора одинакого размера и находящую косинус угла между векторами. Протестировать на нескольких заданных вами примерах."
      ],
      "metadata": {
        "id": "z_2BfDJtJQp8"
      }
    },
    {
      "cell_type": "code",
      "source": [
        "def cos(vec1, vec2):   \n",
        "  return np.dot(vec1, vec2) / (np.linalg.norm(vec1) * np.linalg.norm(vec2))     \n",
        "        \n",
        "vec1 = np.random.randint(10, size=5)\n",
        "vec2 = np.random.randint(10, size=5)     \n",
        "print(f'{vec1}\\n{vec2}\\n{cos(vec1, vec2)}')  \n"
      ],
      "metadata": {
        "colab": {
          "base_uri": "https://localhost:8080/"
        },
        "id": "Z0Blc55oJR42",
        "outputId": "1196a888-d8a6-4652-a398-000ecdfae4cc"
      },
      "execution_count": null,
      "outputs": [
        {
          "output_type": "stream",
          "name": "stdout",
          "text": [
            "[5 5 0 1 6]\n",
            "[1 0 9 2 5]\n",
            "0.3765135483714759\n"
          ]
        }
      ]
    },
    {
      "cell_type": "markdown",
      "source": [
        "**Задача 14.**\n",
        "\n",
        "Написать функцию, принимающую на вход вектор A содержит float числа как больше, так и меньше нуля.\n",
        "\n",
        "Функция должна округлить их до целых и результат записать в глобальную переменную Z. Округление должно быть \"от нуля\", т.е.:\n",
        "\n",
        "- положительные числа округляем всегда вверх до целого\n",
        "- отрицательные числа округляем всегда вниз до целого\n",
        "- 0 остаётся 0\n",
        "\n",
        " Протестировать на нескольких заданных вами примерах.\n"
      ],
      "metadata": {
        "id": "IGsGOG_EKHH9"
      }
    },
    {
      "cell_type": "code",
      "source": [
        "Z = None\n",
        "\n",
        "def round(vec):\n",
        "  global Z\n",
        "  Z = np.where(vec < 0, np.floor(vec),\n",
        "               np.where(vec > 0, np.ceil(vec), vec))\n",
        "\n",
        "A = 20 * np.random.randn(10)\n",
        "print(A)\n",
        "round(A)\n",
        "print(Z)\n",
        "\n"
      ],
      "metadata": {
        "id": "R1sOYZllKI8f",
        "colab": {
          "base_uri": "https://localhost:8080/"
        },
        "outputId": "cb36701e-85af-4bc3-d996-73f3eac912bb"
      },
      "execution_count": 48,
      "outputs": [
        {
          "output_type": "stream",
          "name": "stdout",
          "text": [
            "[  5.585907    -8.68594237  28.64116218   2.54737537 -20.13991993\n",
            "   8.18880147 -44.40843214  -1.48827172 -44.06530384 -12.09154311]\n",
            "[  6.  -9.  29.   3. -21.   9. -45.  -2. -45. -13.]\n"
          ]
        }
      ]
    },
    {
      "cell_type": "markdown",
      "source": [
        "**Задача 15.**\n",
        "\n",
        "Написать функцию, принимающую на вход 2 вектора целых чисел A и B.\n",
        "\n",
        "Функция должна находить числа, встречающиеся в обоих векторах и добавлять их по возрастанию в глобальную переменную - вектор Z.\n",
        "\n",
        "Если пересечений нет, то вектор Z будет пустым.\n",
        "\n",
        " Протестировать на нескольких заданных вами примерах."
      ],
      "metadata": {
        "id": "_CwYXAF4TsSx"
      }
    },
    {
      "cell_type": "code",
      "source": [
        "Z = None\n",
        "\n",
        "def same_values(vec1, vec2):\n",
        "  global Z\n",
        "  Z = np.intersect1d(vec1, vec2)\n",
        "\n",
        "vec1 = np.random.randint(10, size=10)\n",
        "vec2 = np.random.randint(10, size=10)\n",
        "print(f'{vec1}\\n{vec2}\\n')\n",
        "same_values(vec1, vec2)\n",
        "print(Z)"
      ],
      "metadata": {
        "colab": {
          "base_uri": "https://localhost:8080/"
        },
        "id": "igBUIGP_Tv1X",
        "outputId": "5e5d7cae-58e4-4abe-c1e2-382a618480a0"
      },
      "execution_count": 52,
      "outputs": [
        {
          "output_type": "stream",
          "name": "stdout",
          "text": [
            "[8 9 2 4 1 8 7 4 4 7]\n",
            "[1 3 5 6 8 8 2 7 6 2]\n",
            "\n",
            "[1 2 7 8]\n"
          ]
        }
      ]
    },
    {
      "cell_type": "markdown",
      "source": [
        "**Задача 16.**\n",
        "\n",
        "Написать функцию, принимающую на вход вектор и возвращающую максимальный элемент в векторе среди элементов, перед которыми стоит 0. \n",
        "\n",
        "Например для:\n",
        "\n",
        "`x = np.array([6, 2, 0, 3, 0, 0, 5, 7, 0])`\n",
        "\n",
        "Ответ:\n",
        "5"
      ],
      "metadata": {
        "id": "ke4h49izVM1w"
      }
    },
    {
      "cell_type": "code",
      "source": [
        "def max_after_zero(vec):\n",
        "  zeros = (vec == 0)\n",
        "  return np.max(vec[1:][zeros[:-1]])\n",
        "\n",
        "vec = np.array([6, 2, 0, 3, 0, 0, 5, 7, 0])\n",
        "print(max_after_zero(vec))"
      ],
      "metadata": {
        "colab": {
          "base_uri": "https://localhost:8080/"
        },
        "id": "YTAfCcmXVVR4",
        "outputId": "e913e31c-24f0-41e3-b683-91382dc38293"
      },
      "execution_count": 53,
      "outputs": [
        {
          "output_type": "stream",
          "name": "stdout",
          "text": [
            "5\n"
          ]
        }
      ]
    },
    {
      "cell_type": "markdown",
      "source": [
        "**Задача 17.**\n",
        "\n",
        "Написать функцию, принимающую на вход матрицу 5х3 и считающую длину каждого вектора в матрице (строка) и ищущую самый длинный вектор, вернуть его координаты и длину.\n",
        "\n",
        "Как выглядит матрица:\n",
        "\n",
        "```   \n",
        "     | x | y | z |\n",
        "     | 1 | 2 | 3 |\n",
        "     | 3 | 4 | 1 |\n",
        "     | ...       |\n",
        "```"
      ],
      "metadata": {
        "id": "lEfVi9JbYU8L"
      }
    },
    {
      "cell_type": "code",
      "source": [
        "def longest_vector(matrix):\n",
        "  norms = np.linalg.norm(matrix, axis=1)\n",
        "  return matrix[np.where(norms == norms.max())[0][0]], norms.max()\n",
        "\n",
        "matrix = np.random.randint(10, size=(5, 3))\n",
        "print(matrix, '\\n')\n",
        "longest_vec = longest_vector(matrix)\n",
        "print(f'{longest_vec[0]}\\n{longest_vec[1]}')"
      ],
      "metadata": {
        "colab": {
          "base_uri": "https://localhost:8080/"
        },
        "id": "aSF8VgQqYWgM",
        "outputId": "850c198e-4ac6-4b49-9dde-a8bc177d9688"
      },
      "execution_count": 57,
      "outputs": [
        {
          "output_type": "stream",
          "name": "stdout",
          "text": [
            "[[6 0 7]\n",
            " [1 0 5]\n",
            " [9 4 9]\n",
            " [5 2 7]\n",
            " [8 3 9]] \n",
            "\n",
            "[9 4 9]\n",
            "13.341664064126334\n"
          ]
        }
      ]
    }
  ],
  "metadata": {
    "colab": {
      "provenance": [],
      "collapsed_sections": []
    },
    "kernelspec": {
      "display_name": "Python 3",
      "name": "python3"
    },
    "language_info": {
      "name": "python"
    }
  },
  "nbformat": 4,
  "nbformat_minor": 0
}